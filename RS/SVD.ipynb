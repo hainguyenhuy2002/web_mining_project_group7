{
 "cells": [
  {
   "cell_type": "code",
   "execution_count": 6,
   "id": "d642dc4c-170d-48d8-a925-458448dc2bfb",
   "metadata": {},
   "outputs": [],
   "source": [
    "from surprise import SVD, Dataset, accuracy, Reader\n",
    "import pandas as pd\n",
    "import numpy as np"
   ]
  },
  {
   "cell_type": "code",
   "execution_count": 7,
   "id": "861849b6-a149-4fb2-b91e-4ae6825a4992",
   "metadata": {},
   "outputs": [],
   "source": [
    "train_rating = pd.read_csv('train.csv')\n",
    "test_rating = pd.read_csv('test.csv')"
   ]
  },
  {
   "cell_type": "code",
   "execution_count": 29,
   "id": "d3dc51a7-83fc-4d3d-a9fd-585b1c6c4480",
   "metadata": {},
   "outputs": [],
   "source": [
    "reader = Reader(line_format=\"user item rating\", sep=\"\\t\")\n",
    "train_data = Dataset.load_from_df(train_rating, reader=reader).build_full_trainset()\n",
    "test_data = Dataset.load_from_df(test_rating, reader=reader).build_full_trainset().build_testset()"
   ]
  },
  {
   "cell_type": "code",
   "execution_count": null,
   "id": "82277520-02d7-4924-9fc9-b39a695c431e",
   "metadata": {},
   "outputs": [],
   "source": [
    "model = SVD(n_factors=100, n_epochs=100, lr_all=0.02, reg_all=0.01)\n",
    "model.fit(train_data)\n",
    "preds = model.test(test_data)\n",
    "a = accuracy.rmse(preds)"
   ]
  }
 ],
 "metadata": {
  "kernelspec": {
   "display_name": "Python 3 (ipykernel)",
   "language": "python",
   "name": "python3"
  },
  "language_info": {
   "codemirror_mode": {
    "name": "ipython",
    "version": 3
   },
   "file_extension": ".py",
   "mimetype": "text/x-python",
   "name": "python",
   "nbconvert_exporter": "python",
   "pygments_lexer": "ipython3",
   "version": "3.8.10"
  }
 },
 "nbformat": 4,
 "nbformat_minor": 5
}
